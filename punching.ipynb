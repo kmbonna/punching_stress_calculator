{
 "cells": [
  {
   "cell_type": "markdown",
   "id": "9e682fd7",
   "metadata": {},
   "source": [
    "## <center>Punching Stress Calculator</center>\n"
   ]
  },
  {
   "cell_type": "markdown",
   "id": "cd9ed05b",
   "metadata": {},
   "source": [
    "### Equations to be compared:\n",
    "We are comparing the punching stress with the allowable for the stress \n",
    "\n",
    "Punching Stress:\n",
    "$$ qp =  \\frac{QU * \\beta}{B_{o} * \\text{depth}} $$ \n",
    "\n",
    "Allowable $$ max(0.316 \\sqrt{\\frac{f_{cu}}{\\gamma_{c}}},1.6)$$\n",
    "\n",
    "where $QU$ is the Ultimate Shear Force, $\\beta$ is a coefficient for the position of the pole in the place, $B_{o}$ is the perimeter of the slab, and depth is the depth of the slab.\n",
    "\n",
    "$ \\beta = 1.15$ for interior column\n",
    "\n",
    "$ \\beta = 1.30$ for exterior column\n",
    "\n",
    "$ \\beta = 1.50$ for corner column"
   ]
  },
  {
   "cell_type": "code",
   "execution_count": 18,
   "id": "ae4a63ba",
   "metadata": {},
   "outputs": [
    {
     "data": {
      "text/plain": [
       "112624.23184210523"
      ]
     },
     "execution_count": 18,
     "metadata": {},
     "output_type": "execute_result"
    }
   ],
   "source": [
    "(w_u*  / 19"
   ]
  },
  {
   "cell_type": "code",
   "execution_count": 4,
   "id": "93a0d5ca",
   "metadata": {},
   "outputs": [],
   "source": [
    "a = 5\n",
    "b = 2"
   ]
  },
  {
   "cell_type": "code",
   "execution_count": 5,
   "id": "2d140be1",
   "metadata": {},
   "outputs": [
    {
     "name": "stdout",
     "output_type": "stream",
     "text": [
      "7\n"
     ]
    }
   ],
   "source": [
    "print(a+b)"
   ]
  },
  {
   "cell_type": "code",
   "execution_count": 27,
   "id": "fce81b35",
   "metadata": {},
   "outputs": [
    {
     "data": {
      "text/plain": [
       "25000000"
      ]
     },
     "execution_count": 27,
     "metadata": {},
     "output_type": "execute_result"
    }
   ],
   "source": [
    "5000 * 5000"
   ]
  },
  {
   "cell_type": "code",
   "execution_count": 30,
   "id": "858f65ba",
   "metadata": {},
   "outputs": [
    {
     "data": {
      "text/plain": [
       "2076"
      ]
     },
     "execution_count": 30,
     "metadata": {},
     "output_type": "execute_result"
    }
   ],
   "source": [
    "2*319 + 2*719"
   ]
  },
  {
   "cell_type": "code",
   "execution_count": 29,
   "id": "9ed9481a",
   "metadata": {},
   "outputs": [
    {
     "data": {
      "text/plain": [
       "2076.0"
      ]
     },
     "execution_count": 29,
     "metadata": {},
     "output_type": "execute_result"
    }
   ],
   "source": [
    "beta_o"
   ]
  },
  {
   "cell_type": "code",
   "execution_count": 38,
   "id": "0a904437",
   "metadata": {},
   "outputs": [
    {
     "data": {
      "text/plain": [
       "24.770639"
      ]
     },
     "execution_count": 38,
     "metadata": {},
     "output_type": "execute_result"
    }
   ],
   "source": [
    "(5*5 - (0.319*0.719))"
   ]
  },
  {
   "cell_type": "code",
   "execution_count": 36,
   "id": "cc998c6e",
   "metadata": {},
   "outputs": [
    {
     "data": {
      "text/plain": [
       "48361.47583840788"
      ]
     },
     "execution_count": 36,
     "metadata": {},
     "output_type": "execute_result"
    }
   ],
   "source": [
    "w_u*24770639 / (2076*19)"
   ]
  },
  {
   "cell_type": "code",
   "execution_count": 39,
   "id": "d18dc4ca",
   "metadata": {},
   "outputs": [
    {
     "data": {
      "text/plain": [
       "77.0093195"
      ]
     },
     "execution_count": 39,
     "metadata": {},
     "output_type": "execute_result"
    }
   ],
   "source": [
    "w_u"
   ]
  },
  {
   "cell_type": "code",
   "execution_count": 37,
   "id": "f0190226",
   "metadata": {},
   "outputs": [
    {
     "data": {
      "text/plain": [
       "48360.86956521739"
      ]
     },
     "execution_count": 37,
     "metadata": {},
     "output_type": "execute_result"
    }
   ],
   "source": [
    "55615 / 1.15"
   ]
  },
  {
   "cell_type": "markdown",
   "id": "8379c410",
   "metadata": {},
   "source": [
    "#### QU equation:\n",
    "for interior columns:\n",
    "$$ QU = w_{u}(L_{1}*L_{2} - a_{1}*b_{1})$$\n",
    "\n",
    "for exterior columns:\n",
    "$$ QU = w_{u}(\\frac{L_{1}*L_{2}}{2} - a_{1}*b_{1})$$\n",
    "\n",
    "for corner columns:\n",
    "$$ QU = w_{u}(\\frac{L_{1}*L_{2}}{4} - a_{1}*b_{1})$$\n",
    "\n",
    "\n",
    "where:\n",
    "$$ w_{u} = 1.4(2.5T_{s} + F_{c} + wall load) + (1.6 * live load) $$\n",
    "$$ a_{1} = a+depth $$\n",
    "$$ b_{1} = b+depth $$"
   ]
  },
  {
   "cell_type": "markdown",
   "id": "ae364fa2",
   "metadata": {},
   "source": [
    "#### $\\beta_{o}$ equation:\n",
    "$$ B_{o} = 2a_{1} + 2b_{1}$$\n",
    "\n",
    "#### depth equation:\n",
    "$$ depth = T_{s} - 0.003$$"
   ]
  },
  {
   "cell_type": "markdown",
   "id": "59c17d61",
   "metadata": {},
   "source": [
    "#### Inputs to get from user:\n",
    "\n",
    " - $ a,b, T_{s}$: Dimensions of the column\n",
    "\n",
    " - $f_{cu}$: Compressive Strength\n",
    "\n",
    " - wall load\n",
    " - live load\n",
    " - $L_{1}, L_{2} $\n",
    " - $F_{c}$\n",
    " - Type of column: (interior, exterior, corner)"
   ]
  },
  {
   "cell_type": "code",
   "execution_count": 1,
   "id": "7703d1d0",
   "metadata": {},
   "outputs": [],
   "source": [
    "import sys\n",
    "import math\n",
    "gamma_c = 1.5"
   ]
  },
  {
   "cell_type": "code",
   "execution_count": 42,
   "id": "f7e16258",
   "metadata": {},
   "outputs": [
    {
     "name": "stdout",
     "output_type": "stream",
     "text": [
      "At any point, Input x if you want to exit\n",
      "Enter dimension a of the column (m): x\n",
      "Exit requested by user.\n"
     ]
    },
    {
     "ename": "SystemExit",
     "evalue": "0",
     "output_type": "error",
     "traceback": [
      "An exception has occurred, use %tb to see the full traceback.\n",
      "\u001b[1;31mSystemExit\u001b[0m\u001b[1;31m:\u001b[0m 0\n"
     ]
    }
   ],
   "source": [
    "def show_all_variables():\n",
    "    print(\"\\n\")\n",
    "    print(\"All inputs entered by user:\")\n",
    "    print(\"a:\",a,'m')\n",
    "    print(\"b:\", b,'m')\n",
    "    print(\"thickness T_s:\",T_s,'m')\n",
    "    print(\"f_cu:\",f_cu,'N/mm^2')\n",
    "    print(\"wall load:\",wall_load,'t/m^2')\n",
    "    print(\"live load:\",live_load,'t/m^2')\n",
    "    print(\"L1:\",L1,'m')\n",
    "    print(\"L2:\",L2,'m')\n",
    "    print(\"F_c:\",F_c,'t/m^2')\n",
    "    print(\"Column Type:\", column_type)\n",
    "    \n",
    "    print(\"\\n\")\n",
    "    \n",
    "    print(\"Variables calculated from inputs\")\n",
    "    print(\"depth:\",depth,'m')\n",
    "    print(\"a_1:\",a_1,'m')\n",
    "    print(\"b_1:\",b_1,'m')\n",
    "    print(\"Beta_o:\",beta_o,'m')\n",
    "    print(\"w_u:\",w_u)\n",
    "    print(\"Beta\", beta,'m')\n",
    "    print(\"QU:\",QU)   \n",
    "\n",
    "def get_secondary_variables():\n",
    "    global depth,a_1, b_1, beta_o, w_u, QU, beta, qp, initial_allowable,allowable\n",
    "    #Variables to calculate from inputs\n",
    "\n",
    "    depth = T_s - 0.003\n",
    "    a_1 = a + depth\n",
    "    b_1 = b + depth\n",
    "    beta_o = (2*a_1) + (2*b_1)\n",
    "    w_u = (1.4 * ((2.5*T_s) + F_c + wall_load)) + (1.6*live_load)\n",
    "\n",
    "    if column_type == 'interior':\n",
    "        QU = w_u * ((L1*L2) - (a_1*b_1))\n",
    "        beta = 1.15\n",
    "    elif column_type == 'exterior':\n",
    "        QU = w_u * ((L1*L2)/2 - (a_1*b_1))\n",
    "        beta = 1.30\n",
    "    else:\n",
    "        QU = w_u * ((L1*L2)/4 - (a_1*b_1)) \n",
    "        beta = 1.50 \n",
    "\n",
    "\n",
    "    # Calculating Punching Stress and rescale to N/mm^2\n",
    "    qp = ((QU * beta) / (beta_o * depth))\n",
    "\n",
    "    #Calculating the allowable\n",
    "    initial_allowable = 0.316 * math.sqrt(f_cu / gamma_c)\n",
    "    allowable = max(initial_allowable,1.6)\n",
    "\n",
    "def check_safety(qp,allowable):\n",
    "    print(\"\\n\")\n",
    "    print(\"qp:\", qp,'N/mm^2')\n",
    "    print(\"allowable:\", allowable, \"N/mm^2\")\n",
    "    if qp <= 0:\n",
    "        print('qp has to be a positive number, please revise the inputs')\n",
    "    else:\n",
    "        print(\"\\n\")\n",
    "        if qp<allowable:\n",
    "            print(\"Safe\")\n",
    "        else:\n",
    "            print(\"NOT Safe\")   \n",
    "\n",
    "def get_numerical_input(prompt):\n",
    "    while True:     \n",
    "        user_input = input(prompt)\n",
    "        if user_input.lower() == 'x':\n",
    "            print(\"Exit requested by user.\")\n",
    "            sys.exit(0)  # Terminates the running program\n",
    "        try:\n",
    "            val = float(user_input)\n",
    "            if val > 0:\n",
    "                return val\n",
    "            else:\n",
    "                print(\"Please enter a positive number greater than zero.\")\n",
    "        except ValueError:\n",
    "            print(\"Invalid input. Please enter a valid number or press 'x' to exit.\")\n",
    "\n",
    "def get_column_type():\n",
    "    while True:\n",
    "        print(\"1. Interior\")\n",
    "        print(\"2. Exterior\")\n",
    "        print(\"3. Corner\")\n",
    "        choice = input(\"Enter the type of column (1, 2, 3): \")\n",
    "        if choice == '1':\n",
    "            return 'interior'\n",
    "        elif choice == '2':\n",
    "            return 'exterior'\n",
    "        elif choice == '3':\n",
    "            return 'corner'\n",
    "        else:\n",
    "            print(\"Invalid choice. Please enter 1, 2, or 3.\")\n",
    "\n",
    "def menu():\n",
    "    while True:\n",
    "        print(\"\\nMenu:\")\n",
    "        print(\"1. Re-record inputs\")\n",
    "        print(\"2. Show All Variables\")\n",
    "        print(\"3. Exit System\")\n",
    "        choice = input(\"Enter your choice: \")\n",
    "        if choice == '1':\n",
    "            Program()\n",
    "        if choice == '2':\n",
    "            show_all_variables()\n",
    "        elif choice == '3':\n",
    "            print(\"Exiting program.\")\n",
    "            sys.exit(0)\n",
    "        else:\n",
    "            print(\"Invalid choice. Please enter 1 or 2.\")\n",
    "\n",
    "def Program():\n",
    "    global a, b, T_s, f_cu, wall_load, live_load, L1, L2, F_c, column_type\n",
    "    print(\"At any point, Input x if you want to exit\")\n",
    "    a = get_numerical_input(\"Enter dimension a of the column (m): \") \n",
    "    b = get_numerical_input(\"Enter dimension b of the column (m): \")\n",
    "    T_s = get_numerical_input(\"Enter thickness T_s of the column (m): \")\n",
    "    f_cu = get_numerical_input(\"Enter compressive strength f_cu (N/mm^2): \")\n",
    "    wall_load = get_numerical_input(\"Enter wall load (t/m^2): \") * 0.00981\n",
    "    live_load = get_numerical_input(\"Enter live load (t/m^2): \") * 0.00981\n",
    "    L1 = get_numerical_input(\"Enter L1 (m): \")\n",
    "    L2 = get_numerical_input(\"Enter L2 (m): \") \n",
    "    F_c = get_numerical_input(\"Enter flooring cover F_c (t/m^2): \") * 0.00981\n",
    "    column_type = get_column_type()\n",
    "    get_secondary_variables()\n",
    "    check_safety(qp, allowable)  # Placeholder values for qp and allowable\n",
    "    menu()\n",
    "\n",
    "Program()\n"
   ]
  }
 ],
 "metadata": {
  "kernelspec": {
   "display_name": "Python 3 (ipykernel)",
   "language": "python",
   "name": "python3"
  },
  "language_info": {
   "codemirror_mode": {
    "name": "ipython",
    "version": 3
   },
   "file_extension": ".py",
   "mimetype": "text/x-python",
   "name": "python",
   "nbconvert_exporter": "python",
   "pygments_lexer": "ipython3",
   "version": "3.12.4"
  }
 },
 "nbformat": 4,
 "nbformat_minor": 5
}
